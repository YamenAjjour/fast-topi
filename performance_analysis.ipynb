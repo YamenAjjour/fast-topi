{
 "cells": [
  {
   "cell_type": "code",
   "execution_count": 7,
   "id": "7017023d",
   "metadata": {},
   "outputs": [],
   "source": [
    "from fasttopi.config import *\n",
    "from fasttopi.model import *\n",
    "from fasttopi.experiment import *\n",
    "\n",
    "categories = [\"entertainment\",\"business\", \"tech\", \"health\"]\n",
    "\n",
    "path = get_path_model_training('model')\n",
    "model = load_model(path)\n",
    "split = load_experiment()\n",
    "test = split.test\n",
    "predictions = predict(model,test.titles)\n",
    "labels = test.labels"
   ]
  },
  {
   "cell_type": "markdown",
   "id": "000b9b80",
   "metadata": {},
   "source": [
    "## Calculate confusion matrix"
   ]
  },
  {
   "cell_type": "code",
   "execution_count": 8,
   "id": "aff2abfd",
   "metadata": {},
   "outputs": [],
   "source": [
    "from sklearn.metrics import confusion_matrix\n",
    "mat = confusion_matrix(labels,predictions)"
   ]
  },
  {
   "cell_type": "code",
   "execution_count": 9,
   "id": "6b2a1d7e",
   "metadata": {},
   "outputs": [
    {
     "data": {
      "text/plain": [
       "<AxesSubplot:>"
      ]
     },
     "execution_count": 9,
     "metadata": {},
     "output_type": "execute_result"
    },
    {
     "data": {
      "image/png": "[encoded data removed]",
      "text/plain": [
       "<Figure size 432x288 with 2 Axes>"
      ]
     },
     "metadata": {
      "needs_background": "light"
     },
     "output_type": "display_data"
    }
   ],
   "source": [
    "import seaborn as sns\n",
    "sns.heatmap(mat, cmap=\"YlGnBu\",xticklabels=categories,yticklabels=categories)"
   ]
  },
  {
   "cell_type": "code",
   "execution_count": 13,
   "id": "a4e58584",
   "metadata": {},
   "outputs": [
    {
     "name": "stdout",
     "output_type": "stream",
     "text": [
      "42294\n"
     ]
    }
   ],
   "source": [
    "print(len(test.titles))"
   ]
  },
  {
   "cell_type": "code",
   "execution_count": 10,
   "id": "52e464c7",
   "metadata": {},
   "outputs": [
    {
     "data": {
      "text/plain": [
       "array([[9.91768019e-01, 1.41287649e-03, 5.60907474e-03, 1.21003013e-03],\n",
       "       [3.81543016e-03, 7.70213776e-01, 1.95104383e-01, 3.08664116e-02],\n",
       "       [8.24122997e-01, 8.89631658e-02, 7.69056585e-02, 1.00081786e-02],\n",
       "       [3.03374889e-01, 3.87883075e-01, 3.04183064e-01, 4.55897200e-03],\n",
       "       [9.32608589e-01, 3.85151182e-02, 2.78557896e-02, 1.02050359e-03],\n",
       "       [9.03412387e-01, 7.78624326e-02, 1.73877653e-02, 1.33741487e-03],\n",
       "       [9.27733021e-01, 6.02060907e-02, 5.02624143e-03, 7.03464701e-03],\n",
       "       [2.67519924e-01, 6.52689334e-01, 6.72802403e-02, 1.25105023e-02],\n",
       "       [3.65959655e-01, 2.36196338e-01, 3.62901171e-01, 3.49428362e-02],\n",
       "       [2.79865568e-01, 4.32240054e-01, 2.70707538e-01, 1.71868394e-02],\n",
       "       [1.22790853e-04, 1.58240474e-04, 9.99488800e-01, 2.30168516e-04],\n",
       "       [3.06501316e-01, 3.24854406e-01, 3.11194751e-01, 5.74495276e-02],\n",
       "       [9.44466326e-01, 7.14596826e-03, 4.73076891e-02, 1.08001630e-03],\n",
       "       [8.25851293e-02, 8.38190169e-01, 5.78893774e-02, 2.13353240e-02],\n",
       "       [7.56859864e-01, 2.25356969e-02, 6.10167284e-02, 1.59587710e-01],\n",
       "       [9.85559712e-01, 7.38486897e-03, 5.84538541e-03, 1.21003357e-03],\n",
       "       [5.77373856e-01, 2.92782579e-01, 8.54664341e-02, 4.43771310e-02],\n",
       "       [3.69973987e-01, 3.20987871e-01, 1.60659229e-01, 1.48378913e-01],\n",
       "       [5.47258327e-03, 1.45622693e-02, 1.57701565e-01, 8.22263582e-01],\n",
       "       [9.88584631e-03, 1.65916795e-02, 6.28449818e-01, 3.45072656e-01],\n",
       "       [4.74606717e-02, 1.57531660e-01, 7.84968511e-01, 1.00391574e-02],\n",
       "       [7.27646244e-01, 1.46547339e-01, 1.05037769e-01, 2.07686484e-02],\n",
       "       [8.96106468e-01, 3.27918013e-02, 1.18126763e-02, 5.92890543e-02],\n",
       "       [2.42866699e-03, 9.29796313e-01, 6.57432597e-02, 2.03176030e-03],\n",
       "       [9.71449929e-01, 3.66371759e-03, 2.13249814e-02, 3.56137180e-03],\n",
       "       [6.82758357e-03, 9.74000743e-01, 1.66156445e-02, 2.55602911e-03],\n",
       "       [1.54480765e-01, 3.99477235e-01, 3.04733882e-01, 1.41308117e-01],\n",
       "       [6.53905710e-01, 1.46579203e-02, 3.27264329e-01, 4.17204100e-03],\n",
       "       [3.63244549e-03, 9.90907379e-01, 3.37979540e-03, 2.08038039e-03],\n",
       "       [2.71341914e-02, 8.63108185e-02, 8.72769835e-01, 1.37851549e-02],\n",
       "       [2.51152087e-01, 7.27961236e-01, 1.85673191e-02, 2.31935843e-03],\n",
       "       [3.33749152e-03, 3.20898947e-03, 9.70877866e-01, 2.25756529e-02],\n",
       "       [8.26282111e-03, 9.53133429e-01, 1.31627478e-02, 2.54410019e-02],\n",
       "       [9.87620128e-01, 6.47475345e-03, 4.55322161e-03, 1.35189652e-03],\n",
       "       [7.61899315e-04, 9.89487702e-04, 9.97993468e-01, 2.55144758e-04],\n",
       "       [9.19676342e-01, 8.50340051e-03, 6.02736404e-02, 1.15466168e-02],\n",
       "       [3.01686117e-04, 9.98950708e-01, 5.08378639e-04, 2.39227625e-04],\n",
       "       [9.75484453e-01, 9.16900158e-03, 4.72915344e-04, 1.48736296e-02],\n",
       "       [8.11364006e-03, 1.24146730e-02, 5.80074878e-01, 3.99396809e-01],\n",
       "       [7.98321060e-01, 2.57608124e-02, 1.69398061e-01, 6.52006665e-03],\n",
       "       [4.33032063e-01, 4.02808939e-01, 7.75456505e-02, 8.66133479e-02],\n",
       "       [2.02487253e-01, 1.45869236e-01, 5.77935092e-02, 5.93850002e-01],\n",
       "       [8.64786275e-01, 1.17181828e-01, 1.74135600e-02, 6.18336960e-04],\n",
       "       [7.38791791e-02, 3.65418798e-01, 7.01608834e-02, 4.90541139e-01],\n",
       "       [9.81873435e-01, 7.51962944e-03, 5.77040615e-03, 4.83652904e-03],\n",
       "       [1.02326327e-01, 6.26921162e-01, 2.56979227e-01, 1.37732833e-02],\n",
       "       [8.16213467e-01, 1.78055284e-01, 3.11086664e-03, 2.62038226e-03],\n",
       "       [9.98123795e-01, 1.77523029e-04, 1.16694094e-03, 5.31741156e-04],\n",
       "       [5.01076581e-03, 9.25042939e-01, 6.62047265e-02, 3.74156854e-03],\n",
       "       [6.28571573e-01, 3.55836547e-01, 1.08227684e-02, 4.76911148e-03],\n",
       "       [9.96589134e-01, 2.24218247e-04, 1.45559902e-03, 1.73104866e-03],\n",
       "       [9.59993318e-01, 3.19391924e-02, 7.51348018e-03, 5.54009306e-04],\n",
       "       [1.23624331e-03, 9.96843960e-01, 3.87116598e-04, 1.53268001e-03],\n",
       "       [3.58176465e-01, 2.44443999e-01, 2.57178108e-01, 1.40201427e-01],\n",
       "       [6.39012955e-02, 6.21561777e-01, 2.63245959e-01, 5.12909685e-02],\n",
       "       [4.89060604e-01, 4.60290785e-01, 3.13263389e-02, 1.93222720e-02],\n",
       "       [9.51050897e-01, 1.61277697e-02, 2.14687333e-02, 1.13525998e-02],\n",
       "       [9.88912200e-01, 4.66465387e-03, 5.26777169e-03, 1.15537406e-03],\n",
       "       [6.68699372e-03, 2.06293983e-03, 9.90221534e-01, 1.02853250e-03],\n",
       "       [2.73194570e-02, 7.00652732e-02, 6.94658246e-03, 8.95668687e-01],\n",
       "       [2.30869071e-02, 1.02042682e-01, 8.61819260e-01, 1.30511509e-02],\n",
       "       [6.70154849e-02, 5.86010344e-01, 6.29675194e-02, 2.84006651e-01],\n",
       "       [9.38909338e-01, 5.03376566e-03, 3.51375206e-02, 2.09193756e-02],\n",
       "       [2.61667538e-02, 8.30492720e-03, 9.64595062e-01, 9.33257164e-04],\n",
       "       [6.55607666e-01, 1.54012889e-01, 1.71915036e-01, 1.84644094e-02],\n",
       "       [1.21509685e-01, 8.62901926e-01, 1.23336147e-02, 3.25477451e-03],\n",
       "       [1.13553121e-01, 2.11789593e-01, 6.54767023e-01, 1.98902634e-02],\n",
       "       [9.11820847e-01, 2.97437437e-02, 5.76370213e-02, 7.98388315e-04],\n",
       "       [8.16152464e-03, 6.65284684e-02, 9.11824880e-01, 1.34851271e-02],\n",
       "       [7.39775108e-01, 7.56871331e-02, 4.21676543e-02, 1.42370105e-01],\n",
       "       [8.56134687e-01, 5.69244123e-02, 8.31355426e-02, 3.80535800e-03],\n",
       "       [9.93612611e-01, 1.67157490e-03, 4.05926758e-03, 6.56546988e-04],\n",
       "       [9.92133514e-01, 3.98750741e-04, 7.20860072e-03, 2.59134550e-04],\n",
       "       [3.04635390e-03, 9.31478739e-01, 6.32912454e-02, 2.18366206e-03],\n",
       "       [9.96203063e-01, 3.20599398e-03, 3.78217294e-04, 2.12725532e-04],\n",
       "       [9.37355621e-02, 8.97230426e-01, 5.42497682e-03, 3.60903481e-03],\n",
       "       [9.84637364e-01, 1.37133816e-03, 1.32535506e-02, 7.37747369e-04],\n",
       "       [9.48068562e-01, 3.86894922e-02, 1.11444316e-02, 2.09751380e-03],\n",
       "       [8.85314641e-01, 6.09522917e-02, 5.23254606e-02, 1.40760655e-03],\n",
       "       [1.72080628e-02, 5.72975671e-02, 2.77410508e-01, 6.48083862e-01],\n",
       "       [7.89620988e-01, 1.44578077e-01, 1.16172445e-02, 5.41836910e-02],\n",
       "       [2.60627065e-02, 7.77752419e-01, 2.23840000e-02, 1.73800875e-01],\n",
       "       [1.38471586e-01, 6.88939427e-02, 7.88884629e-01, 3.74984250e-03],\n",
       "       [3.70554073e-01, 2.87871443e-02, 1.80706914e-01, 4.19951869e-01],\n",
       "       [8.83241956e-01, 3.00505473e-02, 6.80244356e-02, 1.86830607e-02],\n",
       "       [7.59421835e-01, 1.18317719e-01, 1.15790746e-01, 6.46970019e-03],\n",
       "       [5.48243678e-03, 9.78824696e-01, 1.66821398e-03, 1.40246528e-02],\n",
       "       [3.37646129e-02, 6.62679764e-02, 1.52243444e-01, 7.47723967e-01],\n",
       "       [6.95152278e-03, 3.76280877e-02, 8.92124121e-01, 6.32962684e-02],\n",
       "       [9.56401790e-02, 6.91743648e-01, 2.10269457e-01, 2.34671563e-03],\n",
       "       [5.90435749e-03, 1.25849539e-01, 7.39026322e-03, 8.60855840e-01],\n",
       "       [3.35390739e-02, 3.54018774e-01, 7.17303403e-02, 5.40711812e-01],\n",
       "       [1.74890671e-02, 3.02698820e-02, 9.51219648e-01, 1.02140329e-03],\n",
       "       [1.00739107e-02, 2.27238203e-02, 8.20095011e-03, 9.59001319e-01],\n",
       "       [1.70182845e-01, 4.20398409e-01, 4.02262592e-01, 7.15615404e-03],\n",
       "       [6.84385929e-01, 2.33679819e-01, 6.44938219e-02, 1.74404302e-02],\n",
       "       [7.79359726e-01, 1.62189016e-01, 1.50844579e-02, 4.33667999e-02],\n",
       "       [9.99866119e-01, 4.47333336e-05, 6.19521580e-05, 2.71951604e-05],\n",
       "       [7.42962327e-01, 2.37316090e-01, 1.38434491e-02, 5.87813396e-03],\n",
       "       [9.69722381e-01, 1.04032011e-02, 1.50464853e-02, 4.82793206e-03]])"
      ]
     },
     "execution_count": 10,
     "metadata": {},
     "output_type": "execute_result"
    }
   ],
   "source": [
    "from sklearn.metrics import PrecisionRecallDisplay\n",
    "\n",
    "probabilities"
   ]
  }
 ],
 "metadata": {
  "kernelspec": {
   "display_name": "Python 3 (ipykernel)",
   "language": "python",
   "name": "python3"
  },
  "language_info": {
   "codemirror_mode": {
    "name": "ipython",
    "version": 3
   },
   "file_extension": ".py",
   "mimetype": "text/x-python",
   "name": "python",
   "nbconvert_exporter": "python",
   "pygments_lexer": "ipython3",
   "version": "3.8.12"
  }
 },
 "nbformat": 4,
 "nbformat_minor": 5
}
