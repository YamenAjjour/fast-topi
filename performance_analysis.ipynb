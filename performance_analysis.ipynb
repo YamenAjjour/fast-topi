{
 "cells": [
  {
   "cell_type": "code",
   "execution_count": 7,
   "id": "7017023d",
   "metadata": {},
   "outputs": [],
   "source": [
    "from fasttopi.config import *\n",
    "from fasttopi.model import *\n",
    "from fasttopi.experiment import *\n",
    "\n",
    "categories = [\"entertainment\",\"business\", \"tech\", \"health\"]\n",
    "\n",
    "path = get_path_model_training('model')\n",
    "model = load_model(path)\n",
    "split = load_experiment()\n",
    "test = split.test\n",
    "predictions = predict(model,test.titles)\n",
    "labels = test.labels"
   ]
  },
  {
   "cell_type": "markdown",
   "id": "f5d690f6",
   "metadata": {},
   "source": [
    "## Calculate confusion matrix"
   ]
  },
  {
   "cell_type": "code",
   "execution_count": 8,
   "id": "e70362d2",
   "metadata": {},
   "outputs": [],
   "source": [
    "from sklearn.metrics import confusion_matrix\n",
    "mat = confusion_matrix(labels,predictions)"
   ]
  },
  {
   "cell_type": "code",
   "execution_count": 9,
   "id": "80d11476",
   "metadata": {},
   "outputs": [
    {
     "data": {
      "text/plain": [
       "<AxesSubplot:>"
      ]
     },
     "execution_count": 9,
     "metadata": {},
     "output_type": "execute_result"
    },
    {
     "data": {
      "image/png": "[encoded data removed]",
      "text/plain": [
       "<Figure size 432x288 with 2 Axes>"
      ]
     },
     "metadata": {
      "needs_background": "light"
     },
     "output_type": "display_data"
    }
   ],
   "source": [
    "import seaborn as sns\n",
    "sns.heatmap(mat, cmap=\"YlGnBu\",xticklabels=categories,yticklabels=categories)"
   ]
  },
  {
   "cell_type": "code",
   "execution_count": 13,
   "id": "cbfbf634",
   "metadata": {},
   "outputs": [
    {
     "name": "stdout",
     "output_type": "stream",
     "text": [
      "42294\n"
     ]
    }
   ],
   "source": [
    "print(len(test.titles))"
   ]
  }
 ],
 "metadata": {
  "kernelspec": {
   "display_name": "Python 3 (ipykernel)",
   "language": "python",
   "name": "python3"
  },
  "language_info": {
   "codemirror_mode": {
    "name": "ipython",
    "version": 3
   },
   "file_extension": ".py",
   "mimetype": "text/x-python",
   "name": "python",
   "nbconvert_exporter": "python",
   "pygments_lexer": "ipython3",
   "version": "3.8.12"
  }
 },
 "nbformat": 4,
 "nbformat_minor": 5
}
